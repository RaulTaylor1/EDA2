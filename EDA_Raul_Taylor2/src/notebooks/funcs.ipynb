{
 "cells": [
  {
   "cell_type": "code",
   "execution_count": 1,
   "metadata": {},
   "outputs": [],
   "source": [
    "import numpy as np\n",
    "import pandas as pd\n",
    "import re"
   ]
  },
  {
   "cell_type": "code",
   "execution_count": 2,
   "metadata": {},
   "outputs": [],
   "source": [
    "def obtener_marca(nombre_modelo):\n",
    "    \n",
    "    patron = r'^\\w+'\n",
    "    \n",
    "    match = re.match(patron, str(nombre_modelo))\n",
    "    if match:\n",
    "        return match.group(0)\n",
    "    else:\n",
    "        return \"Sin marca\""
   ]
  },
  {
   "cell_type": "code",
   "execution_count": 3,
   "metadata": {},
   "outputs": [],
   "source": [
    "def extraer_gb(ram):\n",
    "    pattern_ram = r'(\\d+\\.?\\d*)\\s*(GB|MB)?'\n",
    "    match_ram = re.match(pattern_ram, ram)\n",
    "    if match_ram:\n",
    "        numero = float(match_ram.group(1))\n",
    "        unidad = match_ram.group(2)\n",
    "        if unidad == 'MB':\n",
    "            return numero / 1000 \n",
    "        return numero\n",
    "    return 0.0"
   ]
  },
  {
   "cell_type": "code",
   "execution_count": 4,
   "metadata": {},
   "outputs": [],
   "source": [
    "def extraer_mAh(battery):\n",
    "    pattern_battery = r'(\\d{3,4})\\s*mAh?'  \n",
    "    match_battery = re.search(pattern_battery, battery)\n",
    "    if match_battery:\n",
    "        return float(match_battery.group(1))\n",
    "    return 0.0  "
   ]
  },
  {
   "cell_type": "code",
   "execution_count": 5,
   "metadata": {},
   "outputs": [],
   "source": [
    "def extraer_MP_rear(camera):\n",
    "    pattern_rear = r'(\\d+(\\.\\d+)?)\\s*MP'  \n",
    "    matches_rear = re.findall(pattern_rear, str(camera))\n",
    "    if matches_rear:\n",
    "        match = matches_rear[0]\n",
    "        return float(match[0])\n",
    "    return 0.0"
   ]
  },
  {
   "cell_type": "code",
   "execution_count": 6,
   "metadata": {},
   "outputs": [],
   "source": [
    "def extraer_MP_front(camera):\n",
    "    pattern_front = r'&\\s*(\\d+(\\.\\d+)?)\\s*MP'\n",
    "    match_front = re.search(pattern_front, str(camera))\n",
    "    if match_front:\n",
    "        return float(match_front.group(1))\n",
    "    return 0.0"
   ]
  },
  {
   "cell_type": "code",
   "execution_count": 7,
   "metadata": {},
   "outputs": [],
   "source": [
    "def extraer_pulgadas(display):\n",
    "    pattern_pulgadas = r'(\\d+(\\.\\d+)?)\\s*inches'\n",
    "    match_pulgadas = re.search(pattern_pulgadas, str(display))\n",
    "    if match_pulgadas:\n",
    "        return float(match_pulgadas.group(1))\n",
    "    return np.nan"
   ]
  },
  {
   "cell_type": "code",
   "execution_count": null,
   "metadata": {},
   "outputs": [],
   "source": []
  }
 ],
 "metadata": {
  "kernelspec": {
   "display_name": "Python 3",
   "language": "python",
   "name": "python3"
  },
  "language_info": {
   "codemirror_mode": {
    "name": "ipython",
    "version": 3
   },
   "file_extension": ".py",
   "mimetype": "text/x-python",
   "name": "python",
   "nbconvert_exporter": "python",
   "pygments_lexer": "ipython3",
   "version": "3.11.5"
  }
 },
 "nbformat": 4,
 "nbformat_minor": 2
}
